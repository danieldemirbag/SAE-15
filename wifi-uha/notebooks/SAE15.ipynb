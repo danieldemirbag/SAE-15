{
 "cells": [
  {
   "cell_type": "markdown",
   "id": "ab53dd20",
   "metadata": {},
   "source": [
    "# Projet SAE 15\n",
    "### DEMIRBAG Daniel, HALBOUT Ernest "
   ]
  },
  {
   "cell_type": "markdown",
   "id": "e34ae332",
   "metadata": {},
   "source": [
    "## Présentation du projet de traitement de données\n",
    "\n",
    "Notre projet pour cette SAE 15 qui concerne le traitement de données est de savoir manipuler, ranger et utiliser de grande quantitée de données brutes.\n",
    "\n",
    "Dans notre cas nous avons une multitudes de fichier texte contenant des information sur le wifi de l'entièreté du batiment C, avec le SSID des points d'acces, l'address, puis la pussance en dBm. \n",
    "Notre but est de pouvoir rassembler les données et les trier par étage afin de reconstituer une heatmap du reseau eduroam."
   ]
  },
  {
   "cell_type": "markdown",
   "id": "699747fa",
   "metadata": {},
   "source": [
    "## Planning des tâches\n",
    "\n",
    "![planning](\"/image/planning.png\")"
   ]
  },
  {
   "cell_type": "markdown",
   "id": "a5c63bd6",
   "metadata": {},
   "source": [
    "## Liste des étapes\n",
    "\n",
    "\n",
    "- Pour commencer nous pouvons fusionner tous les fichier afin d'obtenir un seul fichier par étage afin de nous faciliter la tâche.\n",
    "\n",
    "- Ensuite nous avons besoin de convertire/ formater nos jeux de données en fichier de type .CSV afin qu'il soit utilisable et lisible en les triant dans des colonnes.\n",
    "\n",
    "- Il faut ensuite trouver un moyen de verifier si il y a des données manquantes en verifiant les cases vides, puis verifier si il n'y a pas de valeurs aberrantes dans les données de puissances, et verifier le pourcentage que cela représente.\n",
    "\n",
    "- Après l'étape précedente concernant le pourcentage des valeurs manquante et aberrante il faut établire le pourcentage d'observation sur ces valeurs la.\n",
    "\n",
    "- Avec le fichier model.py qui nous est donnée nous devons définir les fonctions ComputeMean (moyenne) et ComputeMedian (médiane) afin de calculer la moyenne et la médiane du signal Wi-Fi du réseau de l'UHA à tous les emplacements ou les mesures ont été effectuées.\n",
    "\n",
    "- Pour la dernière étape il faut à l'aide de pycharm créer la heatmap de la puissance du signal Wi-Fi de l'UHA en fonction des positions effectués"
   ]
  },
  {
   "cell_type": "markdown",
   "id": "99c5ed60",
   "metadata": {},
   "source": [
    "## Première etape : \n",
    "\n",
    "A l'aide du cmd nous pouvons acceder au dossier ou il y a toutes nos données. Et nous avons pu fusionner tous les fichiers dans un seul et unique Excel pour chaque étage."
   ]
  },
  {
   "cell_type": "markdown",
   "id": "83f771b7",
   "metadata": {},
   "source": [
    "Il suffit de placer le .bat avec le code ci-dessous dans l'emplacement ou tous les fichiers se trouve.\n",
    "\n",
    "```python \n",
    "copy *. \"le nom.extension\"\n",
    "```"
   ]
  },
  {
   "cell_type": "markdown",
   "id": "b1d4cc9a",
   "metadata": {},
   "source": [
    "## Deuxième étape\n"
   ]
  },
  {
   "cell_type": "markdown",
   "id": "73670780",
   "metadata": {},
   "source": [
    "Pour la suite à l'aide d'un code python sur pycharm nous avons pu delimiter les valeur par colonne pour les trier afin de les jeux de données soit utilisable."
   ]
  },
  {
   "cell_type": "markdown",
   "id": "9cf92c91",
   "metadata": {},
   "source": [
    "#### __Voici le code pour créer le tableau trié pour les données du rez de chaussée :__\n",
    "\n",
    "```python\n",
    "import pandas as pd\n",
    "import csv\n",
    "import numpy as np\n",
    "ls=[]\n",
    "with open('U:\\Documents\\wifi-uha\\data\\-raw\\masterlistrdc.csv', newline='') as csvfile:\n",
    "    spamreader = csv.reader(csvfile, delimiter=\"'\")\n",
    "    for row in spamreader:\n",
    "        df=('; '.join(row))\n",
    "        ls.append(df)\n",
    "np.savetxt('listerdctrier.csv',ls,delimiter=';',fmt ='% s')\n",
    "```\n",
    "Nous avons importé les différentes bibliothèques, en suite nous lisons le fichier à l'aide de CSVfile.\n",
    "Il faut en suite lire le tableau grace au csv et ajouter \"'\" comme délimiteur.\n",
    "Et remplacer les \"'\" par \";\" car c'est le caractères pour séparer en colonne.\n",
    "Puis pour finir nous enregistrons le fichier en csv avec des nouvaux délimiteurs."
   ]
  },
  {
   "cell_type": "markdown",
   "id": "29b852c1",
   "metadata": {},
   "source": [
    "#### __Et voici le code pour créer le tableau pour les donnée du 1er étage :__\n",
    "\n",
    "```python\n",
    "import pandas as pd\n",
    "import csv\n",
    "import numpy as np\n",
    "ls=[]\n",
    "with open('U:\\Documents\\wifi-uha\\data\\-raw\\masterlistpremier.csv', newline='') as csvfile:\n",
    "    spamreader = csv.reader(csvfile, delimiter=\"'\")\n",
    "    for row in spamreader:\n",
    "        df=('; '.join(row))\n",
    "        ls.append(df)\n",
    "np.savetxt('liste1ertrier.csv',ls,delimiter=';',fmt ='% s')\n",
    "```\n",
    "Les étapes precedent s'applique de meme ici mais pour un différent fichier."
   ]
  },
  {
   "cell_type": "markdown",
   "id": "9010e306",
   "metadata": {},
   "source": [
    "Voici le liens github si vous souhaité telecharger les fichiers.py : https://github.com/danieldemirbag/SAE-15/tree/main/wifi-uha/src/data"
   ]
  },
  {
   "cell_type": "markdown",
   "id": "ab9c30c3",
   "metadata": {},
   "source": [
    "## Troisième étape\n"
   ]
  },
  {
   "cell_type": "markdown",
   "id": "d0f905ee",
   "metadata": {},
   "source": [
    "Dans cette étape nous devons verifier si il n'y a pas de cases manquante ou de valeurs aberrantes dans tous le tableau."
   ]
  },
  {
   "cell_type": "markdown",
   "id": "d7ddf52f",
   "metadata": {},
   "source": [
    "#### Pour verifier les cases il faut utiliser ce code python :\n",
    "\n",
    "```python\n",
    "import pandas as pd\n",
    "df = pd.read_csv(\"liste1ertrier.csv\", encoding='ISO-8859-1', sep=';')\n",
    "x = pd.isnull(df).sum().sum()\n",
    "print(x)\n",
    "```\n",
    "\n",
    "#### Pour verifier les valeurs aberrantes il faut utiliser ce code python :\n",
    "\n",
    "```python\n",
    "import\n",
    "```"
   ]
  },
  {
   "cell_type": "markdown",
   "id": "444d23cf",
   "metadata": {},
   "source": [
    "## Problèmes rencontrés\n",
    "\n",
    "- Le problème majeur était le type du fichier qui n'avait pas d'extension, donc nous ne savions pas quoi mettre dans le code pour le convertir.\n",
    "\n",
    "- La complexité du fichier extract-data.py nous a empêché d'avancé sur les premières heures. Nous avons donc décidé de procéder d'une autre manière avec un fichier .bat pour rassembler les données et un autre code python pour convertire en .csv.\n",
    "\n",
    "- Le séparateur nous a aussi posé un soucis, le séparateur étant b'valeur' nous avions tout simplement mis \"'\" en séparateur, mais nous n'avons pas reussi à enlever le \"b\" à la fin du SSID de chaques valeurs.\n",
    "\n",
    "```python\n",
    "import pandas as pds\n",
    "df = pds.read_csv(\"liste1ertrier.csv\", encoding='ISO-8859-1', sep=';')\n",
    "for i in range(len(df)):\n",
    "    df1 = df.iloc[:,0] # accès de la première colonne\n",
    "```\n",
    "(code non fonctionnel car nous n'arrivions pas à accéder ligne par ligne et supprimer le dernier caractère)"
   ]
  },
  {
   "cell_type": "code",
   "execution_count": null,
   "id": "6e826bf1",
   "metadata": {},
   "outputs": [],
   "source": []
  }
 ],
 "metadata": {
  "kernelspec": {
   "display_name": "Python 3 (ipykernel)",
   "language": "python",
   "name": "python3"
  },
  "language_info": {
   "codemirror_mode": {
    "name": "ipython",
    "version": 3
   },
   "file_extension": ".py",
   "mimetype": "text/x-python",
   "name": "python",
   "nbconvert_exporter": "python",
   "pygments_lexer": "ipython3",
   "version": "3.9.5"
  }
 },
 "nbformat": 4,
 "nbformat_minor": 5
}
