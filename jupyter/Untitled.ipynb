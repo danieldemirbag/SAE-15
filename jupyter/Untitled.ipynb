{
 "cells": [
  {
   "cell_type": "markdown",
   "id": "ab53dd20",
   "metadata": {},
   "source": [
    "# Projet SAE 15\n",
    "### DEMIRBAG Daniel, HALBOUT Ernest "
   ]
  },
  {
   "cell_type": "markdown",
   "id": "e34ae332",
   "metadata": {},
   "source": [
    "## Présentation du projet de traitement de données\n",
    "\n",
    "Notre projet pour cette SAE 15 qui concerne le traitement de données est de savoir manipuler, ranger et utiliser de grande quantitée de données brutes.\n",
    "\n",
    "Dans notre cas nous avons une multitudes de fichier texte contenant des information sur le wifi de l'entièreté du batiment C, avec le SSID des points d'acces, l'address, puis la pussance en dBm. \n",
    "Notre but est de pouvoir rassembler les données et les trier par étage afin de reconstituer une heatmap du reseau eduroam."
   ]
  },
  {
   "cell_type": "markdown",
   "id": "a5c63bd6",
   "metadata": {},
   "source": [
    "## Liste des étapes\n",
    "\n",
    "\n",
    "- Pour commencer nous pouvons fusionner tous les fichier afin d'obtenir un seul fichier par étage afin de nous faciliter la tâche.\n",
    "\n",
    "- Ensuite nous avons besoin de convertire/ formater nos jeux de données en fichier de type .CSV afin qu'il soit utilisable et lisible en les triant dans des colonnes.\n",
    "\n",
    "- Il faut ensuite trouver un moyen de verifier si il y a des données manquantes en verifiant les cases vides, puis verifier si il n'y a pas de valeurs aberrantes dans les données de puissances, et verifier le pourcentage que cela représente.\n",
    "\n",
    "- Après l'étape précedente concernant le pourcentage des valeurs manquante et aberrante il faut établire le pourcentage d'observation sur ces valeurs la.\n",
    "\n",
    "- Avec le fichier model.py qui nous est donnée nous devons définir les fonctions ComputeMean (moyenne) et ComputeMedian (médiane) afin de calculer la moyenne et la médiane du signal Wi-Fi du réseau de l'UHA à tous les emplacements ou les mesures ont été effectuées.\n",
    "\n",
    "- Pour la dernière étape il faut à l'aide de pycharm créer la heatmap de la puissance du signal Wi-Fi de l'UHA en fonction des positions effectués"
   ]
  },
  {
   "cell_type": "markdown",
   "id": "99c5ed60",
   "metadata": {},
   "source": [
    "## Première etape : \n",
    "\n",
    "A l'aide du cmd nous pouvons acceder au dossier ou il y a toutes nos données. Et nous avons pu fusionner tous les fichiers dans un seul et unique Excel pour chaque étage."
   ]
  },
  {
   "cell_type": "markdown",
   "id": "71440cde",
   "metadata": {},
   "source": [
    "![image](image/listerdc.png)\n",
    "![image](image/liste1er.png)"
   ]
  },
  {
   "cell_type": "markdown",
   "id": "b1d4cc9a",
   "metadata": {},
   "source": [
    "## Deuxième étape\n",
    "\n"
   ]
  },
  {
   "cell_type": "code",
   "execution_count": null,
   "id": "fa7bdd42",
   "metadata": {},
   "outputs": [],
   "source": []
  }
 ],
 "metadata": {
  "kernelspec": {
   "display_name": "Python 3 (ipykernel)",
   "language": "python",
   "name": "python3"
  },
  "language_info": {
   "codemirror_mode": {
    "name": "ipython",
    "version": 3
   },
   "file_extension": ".py",
   "mimetype": "text/x-python",
   "name": "python",
   "nbconvert_exporter": "python",
   "pygments_lexer": "ipython3",
   "version": "3.9.5"
  }
 },
 "nbformat": 4,
 "nbformat_minor": 5
}
